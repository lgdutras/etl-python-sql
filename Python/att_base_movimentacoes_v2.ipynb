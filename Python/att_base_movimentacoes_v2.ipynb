{
 "cells": [
  {
   "cell_type": "code",
   "execution_count": null,
   "id": "b14a0755",
   "metadata": {},
   "outputs": [],
   "source": [
    "import pandas as pd\n",
    "import openpyxl as op\n",
    "import cx_Oracle as cx\n",
    "import mysql.connector as mysql\n",
    "from datetime import date\n",
    "from dateutil.relativedelta import relativedelta\n",
    "from calendar import monthlen"
   ]
  },
  {
   "cell_type": "code",
   "execution_count": null,
   "id": "5feccea3",
   "metadata": {},
   "outputs": [],
   "source": [
    "\"\"\"\n",
    "- Aqui são utilizadas as bibliotecas monthlen e relativedelta para definir datas de início e final.\n",
    "- A data nicial é definida como o primeiro dia do mês anterior e a data final o último dia do mês anterior.\n",
    "- A frequência desta atualização é mensal, ocorrendo no segundo dia de cada mês.\n",
    "\"\"\"\n",
    "d = date.today()\n",
    "StartDate = d.replace(day=1) - relativedelta(months=1)\n",
    "EndDate = d.replace(day=monthlen(d.year,d.month)) - relativedelta(months=1)"
   ]
  },
  {
   "cell_type": "markdown",
   "id": "e346419d",
   "metadata": {},
   "source": [
    "- A célula abaixo define a consulta de extração que será executada no banco de dados transacional que está atualmente em produção\n",
    "Nesta consulta são utilizados os parâmetros de data incial e final defindos na célula anterior.\n",
    "\n",
    "Como há na organização mais que um software que faça movimentações de produtos, foi necessário, no início unir\n",
    "consultas que extraíam dados com tipo de lançamentos diferentes.\n",
    "\n",
    "De modo geral, os tipos variavam com junto com a natureza do movimento, que pode ser de entrada ou saída.\n",
    "Isso fazia com que, caso fosse requisitada uma natureza ou outra, o tipo fosse retornado nulo\n",
    "Todavia, com a recente alteração da extração do tipo de lançamento, isso pode e está sendo resolvido com a função coalesce.\n",
    "\n",
    "Uma próxima alteração neste código reduzirá pela metade sua extensão, o que o tornará mais legível.\n",
    "Será registrada também a variação no desempenho da consulta."
   ]
  },
  {
   "cell_type": "code",
   "execution_count": null,
   "id": "e6534b3e",
   "metadata": {},
   "outputs": [],
   "source": [
    "consulta = f\"\"\"\n",
    "\n",
    "--ENTRADAS NA TROCA\n",
    "\n",
    "SELECT\n",
    "\n",
    "A.NROEMPRESA,\n",
    "A.DTAENTRADASAIDA,\n",
    "A.SEQPRODUTO,\n",
    "A.CODGERALOPER,\n",
    "B.DESCRICAO,\n",
    "ROUND(SUM(A.QTDENTRADAOUTRAS), 2) AS QTD,\n",
    "ROUND(SUM(A.VLRENTRADAOUTRAS), 2) AS VLR,\n",
    "COALESCE(\n",
    "    (SELECT MAX(C.TIPLANCTO) FROM XXXXXX.CGESMOV_PRODUTOS_COLETADOS C WHERE A.NROEMPRESA = C.NROEMPRESA AND A.SEQPRODUTO = C.SEQPRODUTO AND TO_DATE(A.DTAENTRADASAIDA, 'dd/mm/yyyy') = TO_DATE(C.DATA_COLETA, 'dd/mm/yyyy')),\n",
    "    A.MOTIVOMOVTO) AS TIPLANCTO,\n",
    "A.USULANCTO,\n",
    "'E' AS NATMOVTO\n",
    "\n",
    "    FROM CONSINCO.MAXV_ABCMOVTOBASE_PROD A\n",
    "    LEFT JOIN CONSINCO.GE_CGO B ON A.CODGERALOPER = B.CGO\n",
    "\n",
    "WHERE A.DTAENTRADASAIDA BETWEEN TO_DATE('{StartDate}', 'yyyy-mm-dd') AND TO_DATE('{EndDate}', 'yyyy-mm-dd')\n",
    "AND A.DESCRICAOLOCAL = 'TROCA'\n",
    "AND A.TIPLANCTO = 'E'\n",
    "\n",
    "    GROUP BY A.DTAENTRADASAIDA, A.NROEMPRESA, A.SEQPRODUTO, A.DTAENTRADASAIDA, A.CODGERALOPER, A.USULANCTO, B.DESCRICAO, A.MOTIVOMOVTO\n",
    "\n",
    "-- COMBINAÇÃO\n",
    "    UNION\n",
    "\n",
    "-- SAIDAS DA TROCA\n",
    "SELECT\n",
    "\n",
    "A.NROEMPRESA,\n",
    "A.DTAENTRADASAIDA,\n",
    "A.SEQPRODUTO,\n",
    "A.CODGERALOPER,\n",
    "B.DESCRICAO,\n",
    "ROUND(SUM(A.QTDSAIDAOUTRAS), 2) AS QTD,\n",
    "ROUND(SUM(A.VLRSAIDAOUTRAS), 2) AS VLR,\n",
    "COALESCE(\n",
    "    (SELECT MAX(C.TIPLANCTO) FROM XXXXXX.CGESMOV_PRODUTOS_COLETADOS C WHERE A.NROEMPRESA = C.NROEMPRESA AND A.SEQPRODUTO = C.SEQPRODUTO AND TO_DATE(A.DTAENTRADASAIDA, 'dd/mm/yyyy') = TO_DATE(C.DATA_COLETA, 'dd/mm/yyyy')),\n",
    "    A.MOTIVOMOVTO) AS TIPLANCTO,\n",
    "A.USULANCTO,\n",
    "'S' AS NATMOVTO\n",
    "\n",
    "    FROM CONSINCO.MAXV_ABCMOVTOBASE_PROD A\n",
    "    LEFT JOIN CONSINCO.GE_CGO B ON A.CODGERALOPER = B.CGO\n",
    "\n",
    "WHERE A.DTAENTRADASAIDA BETWEEN TO_DATE('{StartDate}', 'yyyy-mm-dd') AND TO_DATE('{EndDate}', 'yyyy-mm-dd')\n",
    "AND A.DESCRICAOLOCAL = 'TROCA'\n",
    "AND A.TIPLANCTO = 'S'\n",
    "\n",
    "    GROUP BY A.DTAENTRADASAIDA, A.NROEMPRESA, A.SEQPRODUTO, A.DTAENTRADASAIDA, A.CODGERALOPER, A.USULANCTO, B.DESCRICAO, A.MOTIVOMOVTO\n",
    "\"\"\""
   ]
  },
  {
   "cell_type": "markdown",
   "id": "0a2c3f87",
   "metadata": {},
   "source": [
    "###### - Como neste processo serão extraídos e transformados dados de uma base Oracle e inseridos em um banco de dados em MySQL que está disponível aos times de negócio. São utilizadas as bibliotecas cx_Oracle e mysql.connector"
   ]
  },
  {
   "cell_type": "code",
   "execution_count": null,
   "id": "6239051a",
   "metadata": {},
   "outputs": [],
   "source": [
    "#Cria conexão no database Oracle\n",
    "ora_conn = cx.connect(user = 'usuario', password = 'senha123', dsn = '000.000.0.000/dbname')\n",
    "ora_cursor = ora_conn.cursor()\n",
    "\n",
    "#Cria conexão no database MySQL\n",
    "my_conn = mysql.connect(user = 'usuario', password = 'senha123', host = '000.000.0.000', database = 'db_name')\n",
    "my_cursor = my_conn.cursor()\n",
    "\n",
    "# ! Por motivos óbvios, os parâmetros de conexão e credenciais foram substituídos por fictícios"
   ]
  },
  {
   "cell_type": "code",
   "execution_count": null,
   "id": "945207fa",
   "metadata": {},
   "outputs": [],
   "source": [
    "#Executa consulta no database Oracle\n",
    "df = ora_cursor.execute(consulta).fetchall()"
   ]
  },
  {
   "cell_type": "markdown",
   "id": "c352473a",
   "metadata": {},
   "source": [
    "###### - Como toda a parte de transformação deste ETL é feito em SQL, a execução da consulta e a inserção dos dados no banco MySQL é feita de forma direta"
   ]
  },
  {
   "cell_type": "code",
   "execution_count": null,
   "id": "27a2bb4d",
   "metadata": {},
   "outputs": [],
   "source": [
    "#Executa comando de inserção de dados no database MySQL\n",
    "for linha in df:\n",
    "    nroempresa = linha[0]\n",
    "    dtaentradasaida = linha[1]\n",
    "    seqproduto = linha[2]\n",
    "    coderaloper = linha[3]\n",
    "    descmovto = linha[4]\n",
    "    qtd = linha[5]\n",
    "    vlr = linha[6]\n",
    "    idtiplancto = linha[7]\n",
    "    usulancto = linha[8]\n",
    "    natmovto = linha[9]\n",
    "    my_cursor.execute(f\"INSERT INTO prev_perdas.movimentacoes (nroempresa, dtaentradasaida, seqproduto, codgeraloper, descricao, qtd, vlr, idtiplancto, usulancto, naturezamovto) VALUES ('{nroempresa}', '{dtaentradasaida}', '{seqproduto}', '{coderaloper}', '{descmovto}', '{qtd}', '{vlr}', '{idtiplancto}', '{usulancto}', '{natmovto}')\")\n",
    "my_conn.commit()"
   ]
  }
 ],
 "metadata": {
  "kernelspec": {
   "display_name": "Python 3 (ipykernel)",
   "language": "python",
   "name": "python3"
  },
  "language_info": {
   "codemirror_mode": {
    "name": "ipython",
    "version": 3
   },
   "file_extension": ".py",
   "mimetype": "text/x-python",
   "name": "python",
   "nbconvert_exporter": "python",
   "pygments_lexer": "ipython3",
   "version": "3.10.2"
  }
 },
 "nbformat": 4,
 "nbformat_minor": 5
}
